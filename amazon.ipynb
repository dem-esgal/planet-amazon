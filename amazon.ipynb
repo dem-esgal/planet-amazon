{
 "cells": [
  {
   "cell_type": "markdown",
   "metadata": {
    "collapsed": true
   },
   "source": [
    "Lets first import libs"
   ]
  },
  {
   "cell_type": "code",
   "execution_count": null,
   "metadata": {},
   "outputs": [],
   "source": [
    "import numpy as np\n",
    "import os\n",
    "import pandas as pd\n",
    "import random\n",
    "from tqdm import tqdm\n",
    "import xgboost as xgb\n",
    "\n",
    "import scipy\n",
    "from sklearn.metrics import fbeta_score\n",
    "\n",
    "from PIL import Image"
   ]
  },
  {
   "cell_type": "markdown",
   "metadata": {},
   "source": [
    "Now define paths"
   ]
  },
  {
   "cell_type": "code",
   "execution_count": null,
   "metadata": {},
   "outputs": [],
   "source": [
    "random_seed = 420\n",
    "random.seed(random_seed)\n",
    "np.random.seed(random_seed)\n",
    "\n",
    "# Load data\n",
    "train_path = '../input/train-jpg/'\n",
    "test_path = '../input/test-jpg-v2/'\n",
    "train = pd.read_csv('../input/train_v2.csv')\n",
    "test = pd.read_csv('../input/sample_submission_v2.csv')"
   ]
  },
  {
   "cell_type": "markdown",
   "metadata": {},
   "source": [
    "define function for extracting features"
   ]
  },
  {
   "cell_type": "code",
   "execution_count": null,
   "metadata": {},
   "outputs": [],
   "source": [
    "def extract_features(df, data_path):\n",
    "    im_features = df.copy()\n",
    "\n",
    "    N = len(im_features.image_name.values)\n",
    "\n",
    "    r_mean = np.zeros(N)\n",
    "    g_mean = np.zeros(N)\n",
    "    b_mean = np.zeros(N)\n",
    "\n",
    "    r_std = np.zeros(N)\n",
    "    g_std = np.zeros(N)\n",
    "    b_std = np.zeros(N)\n",
    "\n",
    "    r_max = np.zeros(N)\n",
    "    g_max = np.zeros(N)\n",
    "    b_max = np.zeros(N)\n",
    "\n",
    "    r_min = np.zeros(N)\n",
    "    g_min = np.zeros(N)\n",
    "    b_min = np.zeros(N)\n",
    "\n",
    "    r_kurtosis = np.zeros(N)\n",
    "    g_kurtosis = np.zeros(N)\n",
    "    b_kurtosis = np.zeros(N)\n",
    "\n",
    "    r_skewness = np.zeros(N)\n",
    "    g_skewness = np.zeros(N)\n",
    "    b_skewness = np.zeros(N)\n",
    "\n",
    "    for i, image_name in enumerate(tqdm(im_features.image_name.values, miniters=1000)):\n",
    "        im = Image.open(data_path + image_name + '.jpg')\n",
    "        im = np.array(im)[:, :, :3]\n",
    "\n",
    "        r = im[:, :, 0].ravel()\n",
    "        g = im[:, :, 1].ravel()\n",
    "        b = im[:, :, 2].ravel()\n",
    "\n",
    "        r_mean[i] = np.mean(r)\n",
    "        g_mean[i] = np.mean(g)\n",
    "        b_mean[i] = np.mean(b)\n",
    "\n",
    "        r_std[i] = np.std(r)\n",
    "        g_std[i] = np.std(g)\n",
    "        b_std[i] = np.std(b)\n",
    "\n",
    "        r_max[i] = np.max(r)\n",
    "        g_max[i] = np.max(g)\n",
    "        b_max[i] = np.max(b)\n",
    "\n",
    "        r_min[i] = np.min(r)\n",
    "        g_min[i] = np.min(g)\n",
    "        b_min[i] = np.min(b)\n",
    "\n",
    "        r_kurtosis[i] = scipy.stats.kurtosis(r)\n",
    "        g_kurtosis[i] = scipy.stats.kurtosis(g)\n",
    "        b_kurtosis[i] = scipy.stats.kurtosis(b)\n",
    "\n",
    "        r_skewness[i] = scipy.stats.skew(r)\n",
    "        g_skewness[i] = scipy.stats.skew(g)\n",
    "        b_skewness[i] = scipy.stats.skew(b)\n",
    "\n",
    "    im_features['r_mean'] = r_mean\n",
    "    im_features['g_mean'] = g_mean\n",
    "    im_features['b_mean'] = b_mean\n",
    "\n",
    "    im_features['rgb_mean_mean'] = (r_mean + g_mean + b_mean) / 3.0\n",
    "\n",
    "    im_features['r_std'] = r_std\n",
    "    im_features['g_std'] = g_std\n",
    "    im_features['b_std'] = b_std\n",
    "\n",
    "    im_features['rgb_mean_std'] = (r_std + g_std + b_std) / 3.0\n",
    "\n",
    "    im_features['r_max'] = r_max\n",
    "    im_features['g_max'] = g_max\n",
    "    im_features['b_max'] = b_max\n",
    "\n",
    "    im_features['rgb_mean_max'] = (r_max + r_max + b_max) / 3.0\n",
    "\n",
    "    im_features['r_min'] = r_min\n",
    "    im_features['g_min'] = g_min\n",
    "    im_features['b_min'] = b_min\n",
    "\n",
    "    im_features['rgb_mean_min'] = (r_min + g_min + b_min) / 3.0\n",
    "\n",
    "    im_features['r_range'] = r_max - r_min\n",
    "    im_features['g_range'] = g_max - g_min\n",
    "    im_features['b_range'] = b_max - b_min\n",
    "\n",
    "    im_features['r_kurtosis'] = r_kurtosis\n",
    "    im_features['g_kurtosis'] = g_kurtosis\n",
    "    im_features['b_kurtosis'] = b_kurtosis\n",
    "\n",
    "    im_features['r_skewness'] = r_skewness\n",
    "    im_features['g_skewness'] = g_skewness\n",
    "    im_features['b_skewness'] = b_skewness\n",
    "\n",
    "    return im_features"
   ]
  },
  {
   "cell_type": "markdown",
   "metadata": {},
   "source": [
    "start processsing"
   ]
  },
  {
   "cell_type": "code",
   "execution_count": null,
   "metadata": {},
   "outputs": [],
   "source": [
    "# Extract features\n",
    "print('Extracting train features')\n",
    "train_features = extract_features(train, train_path)\n",
    "print('Extracting test features')\n",
    "test_features = extract_features(test, test_path)\n",
    "\n",
    "# Prepare data\n",
    "X = np.array(train_features.drop(['image_name', 'tags'], axis=1))\n",
    "y_train = []\n",
    "\n",
    "flatten = lambda l: [item for sublist in l for item in sublist]\n",
    "labels = np.array(list(set(flatten([l.split(' ') for l in train_features['tags'].values]))))\n",
    "\n",
    "label_map = {l: i for i, l in enumerate(labels)}\n",
    "inv_label_map = {i: l for l, i in label_map.items()}"
   ]
  },
  {
   "cell_type": "markdown",
   "metadata": {},
   "source": [
    "Tag to classes transform"
   ]
  },
  {
   "cell_type": "code",
   "execution_count": null,
   "metadata": {},
   "outputs": [],
   "source": [
    "for tags in tqdm(train.tags.values, miniters=1000):\n",
    "    targets = np.zeros(17)\n",
    "    for t in tags.split(' '):\n",
    "        targets[label_map[t]] = 1\n",
    "    y_train.append(targets)\n",
    "\n",
    "y = np.array(y_train, np.uint8)\n",
    "\n",
    "print('X.shape = ' + str(X.shape))\n",
    "print('y.shape = ' + str(y.shape))\n",
    "\n",
    "n_classes = y.shape[1]\n",
    "\n",
    "X_test = np.array(test_features.drop(['image_name', 'tags'], axis=1))"
   ]
  },
  {
   "cell_type": "markdown",
   "metadata": {},
   "source": [
    "trainand predict with xgboost"
   ]
  },
  {
   "cell_type": "code",
   "execution_count": null,
   "metadata": {},
   "outputs": [],
   "source": [
    "# Train and predict with one-vs-all strategy\n",
    "y_pred = np.zeros((X_test.shape[0], n_classes))\n",
    "\n",
    "print('Training and making predictions')\n",
    "for class_i in tqdm(range(n_classes), miniters=1):\n",
    "    model = xgb.XGBClassifier(max_depth=5, learning_rate=0.1, n_estimators=100, \\\n",
    "                              silent=True, objective='binary:logistic', nthread=-1, \\\n",
    "                              gamma=0, min_child_weight=1, max_delta_step=0, \\\n",
    "                              subsample=1, colsample_bytree=1, colsample_bylevel=1, \\\n",
    "                              reg_alpha=0, reg_lambda=0, scale_pos_weight=1, \\\n",
    "                              base_score=0.5, seed=random_seed, missing=None)\n",
    "    model.fit(X, y[:, class_i])\n",
    "    y_pred[:, class_i] = model.predict_proba(X_test)[:, 1]\n",
    "\n",
    "preds = [' '.join(labels[y_pred_row > 0.21]) for y_pred_row in y_pred]"
   ]
  },
  {
   "cell_type": "markdown",
   "metadata": {},
   "source": [
    "Save to file"
   ]
  },
  {
   "cell_type": "code",
   "execution_count": null,
   "metadata": {},
   "outputs": [],
   "source": [
    ""
   ]
  }
 ],
 "metadata": {
  "kernelspec": {
   "display_name": "Python 2",
   "language": "python",
   "name": "python2"
  },
  "language_info": {
   "codemirror_mode": {
    "name": "ipython",
    "version": 2.0
   },
   "file_extension": ".py",
   "mimetype": "text/x-python",
   "name": "python",
   "nbconvert_exporter": "python",
   "pygments_lexer": "ipython2",
   "version": "2.7.6"
  }
 },
 "nbformat": 4,
 "nbformat_minor": 0
}